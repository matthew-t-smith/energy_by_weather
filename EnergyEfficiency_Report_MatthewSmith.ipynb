{
 "cells": [
  {
   "cell_type": "markdown",
   "metadata": {},
   "source": [
    "# A Case Study in Energy Efficiency\n",
    "## Matthew T. Smith"
   ]
  },
  {
   "cell_type": "markdown",
   "metadata": {},
   "source": [
    "### Problem Statement\n",
    "A household’s normal energy usage most largely fluctuates due to the heating and cooling of the space based on weather. This particular analysis looks to model and predict a single household’s usage as it relates to that historical weather data. This compact model can be passed between an energy supplier or retailer and the consumer without having to hand off a user’s actual usage trends. Businesses can rely on normal meter reads and predictions from such a model to price their utility, and the consumers can better see how they use their energy and budget or plan accordingly. This small example of “federated learning” keeps privacy at the forefront of the model’s architecture. Through the use of the Keras Deep Learning library in Python on top of Google’s TensorFlow’s backend, a linear regression model is trained on a 10-month electricity usage report for an apartment in Wellington, New Zealand paired with the weather (high/low temperature, relative humidity, and rainfall) from that same time period. Predictions are then made on sample weather data to demonstrate probable energy consumption."
   ]
  },
  {
   "cell_type": "markdown",
   "metadata": {},
   "source": [
    "### Technology"
   ]
  },
  {
   "cell_type": "markdown",
   "metadata": {},
   "source": [
    "#### Software\n",
    "- **Keras Framework** [https://github.com/keras-team/keras]\n",
    "- **TensorFlow Framework** [https://www.tensorflow.org/install/]\n",
    "- **Python 3.7** [https://www.python.org/downloads/]\n",
    "- **h5py** [http://docs.h5py.org/en/latest/build.html]\n",
    "- **numpy** [https://scipy.org/install.html]\n",
    "- **pandas** [https://pandas.pydata.org/pandas-docs/stable/install.html]\n",
    "- **matplotlib** [https://scipy.org/install.html]\n",
    "\n",
    "#### Hardware\n",
    "- **Operating System:** macOS Mojave 10.14.4\n",
    "- **Processor:** 2.3 GHz Intel Core i7\n",
    "- **Memory:** 16 GB 1600 MHz DDR3\n",
    "- **GPU**: N/A"
   ]
  },
  {
   "attachments": {},
   "cell_type": "markdown",
   "metadata": {},
   "source": [
    "### Data\n",
    "\n",
    "#### Weather\n",
    "- CliFlo – the web application providing access to New Zealand’s National Climate Database [https://cliflo.niwa.co.nz/]\n",
    "- Collected from Wellington, NZ’s Greta Point Weather Station\n",
    "    - Closest station to the home with complete data\n",
    "- 10-month dataset of high and low temperatures (Celsius), relative humidity (percent), and rainfall (millimeters)\n",
    "\n",
    "#### Energy Consumption\n",
    "- Powershop NZ – Energy retailer for the home [https://www.powershop.co.nz/]\n",
    "- Half-hourly consumption (kWh) fed from smart meter at the property\n",
    "- The data downloaded is from my own home in NZ; consumption data is not freely available via the retailer"
   ]
  },
  {
   "cell_type": "code",
   "execution_count": 7,
   "metadata": {},
   "outputs": [
    {
     "name": "stdout",
     "output_type": "stream",
     "text": [
      "\n",
      "Energy: \n",
      "\n",
      "         reading_start          reading_end  usage\n",
      "0  29/03/2018 00:00:01  29/03/2018 00:30:00   0.05\n",
      "1  29/03/2018 00:00:01  30/03/2018 00:00:00  11.51\n",
      "2  29/03/2018 00:30:01  29/03/2018 01:00:00   0.04\n",
      "\n",
      "Weather: \n",
      "\n",
      "                     Station         Date(UTC) Tmax(C) Period(Hrs)  Tmin(C)  \\\n",
      "Wellington   Greta Point Cws  29/03/2018 00:00    20.5           1     19.5   \n",
      "Wellington   Greta Point Cws  29/03/2018 01:00    22.4           1     19.9   \n",
      "Wellington   Greta Point Cws  29/03/2018 02:00    23.2           1     22.4   \n",
      "\n",
      "            Period(Hrs).1 Tgmin(C) Period(Hrs).2 Tmean(C) RHmean(%)  \\\n",
      "Wellington              1        -             -     19.8        66   \n",
      "Wellington              1        -             -     20.8        61   \n",
      "Wellington              1        -             -     22.8        51   \n",
      "\n",
      "           Period(Hrs).3 Freq  \n",
      "Wellington             1    H  \n",
      "Wellington             1    H  \n",
      "Wellington             1    H  \n",
      "\n",
      "Rainfall: \n",
      "\n",
      "                       Station         Date(UTC)  Amount(mm)  Period(Hrs) Freq\n",
      "0  Wellington, Greta Point Cws  29/03/2018 00:00         0.0            1    H\n",
      "1  Wellington, Greta Point Cws  29/03/2018 01:00         0.0            1    H\n",
      "2  Wellington, Greta Point Cws  29/03/2018 02:00         0.0            1    H\n"
     ]
    }
   ],
   "source": [
    "import pandas as pd\n",
    "\n",
    "ENERGY = './data/energy_data_raw.csv'\n",
    "WEATHER = './data/wellington_weather_raw.csv'\n",
    "RAIN = './data/wellington_rain_raw.csv'\n",
    "\n",
    "E = pd.read_csv(ENERGY)\n",
    "W = pd.read_csv(WEATHER)\n",
    "R = pd.read_csv(RAIN)\n",
    "\n",
    "print(\"\\nEnergy: \\n\")\n",
    "print(E.head(3))\n",
    "print(\"\\nWeather: \\n\")\n",
    "print(W.head(3))\n",
    "print(\"\\nRainfall: \\n\")\n",
    "print(R.head(3))"
   ]
  },
  {
   "cell_type": "markdown",
   "metadata": {},
   "source": [
    "### Setup\n",
    "\n",
    "#### Installation\n",
    "The project and data can be downloaded from here: [https://github.com/matthew-t-smith/energy_by_weather]\n",
    "\n",
    "From the home directory, run:\n",
    "\n",
    "`~/energy_by_weather $ pip3 install -r requirements.txt`\n",
    "\n",
    "#### Data Cleaning\n",
    "The raw data already exists in the `/data/` directory, as does the cleaning script and output data. To re-clean the data, from the data directory, run:\n",
    "\n",
    "`~/energy_by_weather/data $ python3 data_prep.py`\n",
    "\n",
    "#### Model Creation and Training\n",
    "The model will be created new, train, and save as an `.h5` file, as already exists in the directory currently. Plots will also be re-saved over the existing files when running. To re-create and re-train the model, from the home directory, run:\n",
    "\n",
    "`~/energy_by_weather $ python3 model.py`"
   ]
  },
  {
   "cell_type": "code",
   "execution_count": null,
   "metadata": {},
   "outputs": [],
   "source": []
  }
 ],
 "metadata": {
  "kernelspec": {
   "display_name": "Python 3",
   "language": "python",
   "name": "python3"
  },
  "language_info": {
   "codemirror_mode": {
    "name": "ipython",
    "version": 3
   },
   "file_extension": ".py",
   "mimetype": "text/x-python",
   "name": "python",
   "nbconvert_exporter": "python",
   "pygments_lexer": "ipython3",
   "version": "3.7.3"
  }
 },
 "nbformat": 4,
 "nbformat_minor": 2
}
